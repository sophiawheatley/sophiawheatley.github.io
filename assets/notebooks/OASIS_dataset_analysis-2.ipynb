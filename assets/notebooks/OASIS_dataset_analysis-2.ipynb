{
 "cells": [
  {
   "cell_type": "markdown",
   "metadata": {},
   "source": [
    "## OASIS Dataset Analysis (II)\n",
    "\n",
    "Link to the original paper\n",
    "https://www.ncbi.nlm.nih.gov/pmc/articles/PMC2895005/"
   ]
  },
  {
   "cell_type": "markdown",
   "metadata": {},
   "source": [
    "Aim of this post: use linear mixed-effects models to look at the fixed and random effects in this dataset. \n",
    "\n",
    "## Linear mixed-effects models (LME)\n",
    "\n",
    "Linear mixed effects models are based on the simple linear regression model that allow for the measure of both fixed and random effects. Definitions of random and fixed effects are not necessarily to do with the variables themselves but vary depending on the research question. Fixed effects are the effects of variables of interest. In this blog for example one of the variables of interest is the MMSE score so we want to look at its effect on the likelihood of the subject developing dementia. Whereas random effects are usually any variation are a result of regions that are not of interest to us. For example variability between subjects can be seen as a random effect. These models are used for when there is non-independence in the data and are also good for designs with repeated measures as well as data with missing values. Whereas with an ANOVA test, independence of variables and a normally distributed sample is assumed. "
   ]
  },
  {
   "cell_type": "markdown",
   "metadata": {},
   "source": [
    "## Loading and Preprocessing "
   ]
  },
  {
   "cell_type": "code",
   "execution_count": 1,
   "metadata": {},
   "outputs": [],
   "source": [
    "import pandas as pd"
   ]
  },
  {
   "cell_type": "code",
   "execution_count": 2,
   "metadata": {},
   "outputs": [
    {
     "data": {
      "text/html": [
       "<div>\n",
       "<style scoped>\n",
       "    .dataframe tbody tr th:only-of-type {\n",
       "        vertical-align: middle;\n",
       "    }\n",
       "\n",
       "    .dataframe tbody tr th {\n",
       "        vertical-align: top;\n",
       "    }\n",
       "\n",
       "    .dataframe thead th {\n",
       "        text-align: right;\n",
       "    }\n",
       "</style>\n",
       "<table border=\"1\" class=\"dataframe\">\n",
       "  <thead>\n",
       "    <tr style=\"text-align: right;\">\n",
       "      <th></th>\n",
       "      <th>Subject_ID</th>\n",
       "      <th>Group</th>\n",
       "      <th>Visit</th>\n",
       "      <th>Gender</th>\n",
       "      <th>Age</th>\n",
       "      <th>EDUC</th>\n",
       "      <th>SES</th>\n",
       "      <th>MMSE</th>\n",
       "      <th>CDR</th>\n",
       "      <th>eTIV</th>\n",
       "      <th>nWBV</th>\n",
       "      <th>ASF</th>\n",
       "    </tr>\n",
       "  </thead>\n",
       "  <tbody>\n",
       "    <tr>\n",
       "      <th>0</th>\n",
       "      <td>OAS2_0001</td>\n",
       "      <td>Nondemented</td>\n",
       "      <td>1</td>\n",
       "      <td>1</td>\n",
       "      <td>87</td>\n",
       "      <td>14</td>\n",
       "      <td>2.0</td>\n",
       "      <td>27.0</td>\n",
       "      <td>0.0</td>\n",
       "      <td>1987</td>\n",
       "      <td>0.696</td>\n",
       "      <td>0.883</td>\n",
       "    </tr>\n",
       "    <tr>\n",
       "      <th>1</th>\n",
       "      <td>OAS2_0001</td>\n",
       "      <td>Nondemented</td>\n",
       "      <td>2</td>\n",
       "      <td>1</td>\n",
       "      <td>88</td>\n",
       "      <td>14</td>\n",
       "      <td>2.0</td>\n",
       "      <td>30.0</td>\n",
       "      <td>0.0</td>\n",
       "      <td>2004</td>\n",
       "      <td>0.681</td>\n",
       "      <td>0.876</td>\n",
       "    </tr>\n",
       "    <tr>\n",
       "      <th>2</th>\n",
       "      <td>OAS2_0002</td>\n",
       "      <td>Demented</td>\n",
       "      <td>1</td>\n",
       "      <td>1</td>\n",
       "      <td>75</td>\n",
       "      <td>12</td>\n",
       "      <td>NaN</td>\n",
       "      <td>23.0</td>\n",
       "      <td>0.5</td>\n",
       "      <td>1678</td>\n",
       "      <td>0.736</td>\n",
       "      <td>1.046</td>\n",
       "    </tr>\n",
       "    <tr>\n",
       "      <th>3</th>\n",
       "      <td>OAS2_0002</td>\n",
       "      <td>Demented</td>\n",
       "      <td>2</td>\n",
       "      <td>1</td>\n",
       "      <td>76</td>\n",
       "      <td>12</td>\n",
       "      <td>NaN</td>\n",
       "      <td>28.0</td>\n",
       "      <td>0.5</td>\n",
       "      <td>1738</td>\n",
       "      <td>0.713</td>\n",
       "      <td>1.010</td>\n",
       "    </tr>\n",
       "    <tr>\n",
       "      <th>4</th>\n",
       "      <td>OAS2_0002</td>\n",
       "      <td>Demented</td>\n",
       "      <td>3</td>\n",
       "      <td>1</td>\n",
       "      <td>80</td>\n",
       "      <td>12</td>\n",
       "      <td>NaN</td>\n",
       "      <td>22.0</td>\n",
       "      <td>0.5</td>\n",
       "      <td>1698</td>\n",
       "      <td>0.701</td>\n",
       "      <td>1.034</td>\n",
       "    </tr>\n",
       "    <tr>\n",
       "      <th>...</th>\n",
       "      <td>...</td>\n",
       "      <td>...</td>\n",
       "      <td>...</td>\n",
       "      <td>...</td>\n",
       "      <td>...</td>\n",
       "      <td>...</td>\n",
       "      <td>...</td>\n",
       "      <td>...</td>\n",
       "      <td>...</td>\n",
       "      <td>...</td>\n",
       "      <td>...</td>\n",
       "      <td>...</td>\n",
       "    </tr>\n",
       "    <tr>\n",
       "      <th>368</th>\n",
       "      <td>OAS2_0185</td>\n",
       "      <td>Demented</td>\n",
       "      <td>2</td>\n",
       "      <td>1</td>\n",
       "      <td>82</td>\n",
       "      <td>16</td>\n",
       "      <td>1.0</td>\n",
       "      <td>28.0</td>\n",
       "      <td>0.5</td>\n",
       "      <td>1693</td>\n",
       "      <td>0.694</td>\n",
       "      <td>1.037</td>\n",
       "    </tr>\n",
       "    <tr>\n",
       "      <th>369</th>\n",
       "      <td>OAS2_0185</td>\n",
       "      <td>Demented</td>\n",
       "      <td>3</td>\n",
       "      <td>1</td>\n",
       "      <td>86</td>\n",
       "      <td>16</td>\n",
       "      <td>1.0</td>\n",
       "      <td>26.0</td>\n",
       "      <td>0.5</td>\n",
       "      <td>1688</td>\n",
       "      <td>0.675</td>\n",
       "      <td>1.040</td>\n",
       "    </tr>\n",
       "    <tr>\n",
       "      <th>370</th>\n",
       "      <td>OAS2_0186</td>\n",
       "      <td>Nondemented</td>\n",
       "      <td>1</td>\n",
       "      <td>0</td>\n",
       "      <td>61</td>\n",
       "      <td>13</td>\n",
       "      <td>2.0</td>\n",
       "      <td>30.0</td>\n",
       "      <td>0.0</td>\n",
       "      <td>1319</td>\n",
       "      <td>0.801</td>\n",
       "      <td>1.331</td>\n",
       "    </tr>\n",
       "    <tr>\n",
       "      <th>371</th>\n",
       "      <td>OAS2_0186</td>\n",
       "      <td>Nondemented</td>\n",
       "      <td>2</td>\n",
       "      <td>0</td>\n",
       "      <td>63</td>\n",
       "      <td>13</td>\n",
       "      <td>2.0</td>\n",
       "      <td>30.0</td>\n",
       "      <td>0.0</td>\n",
       "      <td>1327</td>\n",
       "      <td>0.796</td>\n",
       "      <td>1.323</td>\n",
       "    </tr>\n",
       "    <tr>\n",
       "      <th>372</th>\n",
       "      <td>OAS2_0186</td>\n",
       "      <td>Nondemented</td>\n",
       "      <td>3</td>\n",
       "      <td>0</td>\n",
       "      <td>65</td>\n",
       "      <td>13</td>\n",
       "      <td>2.0</td>\n",
       "      <td>30.0</td>\n",
       "      <td>0.0</td>\n",
       "      <td>1333</td>\n",
       "      <td>0.801</td>\n",
       "      <td>1.317</td>\n",
       "    </tr>\n",
       "  </tbody>\n",
       "</table>\n",
       "<p>373 rows × 12 columns</p>\n",
       "</div>"
      ],
      "text/plain": [
       "    Subject_ID        Group  Visit  Gender  Age  EDUC  SES  MMSE  CDR  eTIV  \\\n",
       "0    OAS2_0001  Nondemented      1       1   87    14  2.0  27.0  0.0  1987   \n",
       "1    OAS2_0001  Nondemented      2       1   88    14  2.0  30.0  0.0  2004   \n",
       "2    OAS2_0002     Demented      1       1   75    12  NaN  23.0  0.5  1678   \n",
       "3    OAS2_0002     Demented      2       1   76    12  NaN  28.0  0.5  1738   \n",
       "4    OAS2_0002     Demented      3       1   80    12  NaN  22.0  0.5  1698   \n",
       "..         ...          ...    ...     ...  ...   ...  ...   ...  ...   ...   \n",
       "368  OAS2_0185     Demented      2       1   82    16  1.0  28.0  0.5  1693   \n",
       "369  OAS2_0185     Demented      3       1   86    16  1.0  26.0  0.5  1688   \n",
       "370  OAS2_0186  Nondemented      1       0   61    13  2.0  30.0  0.0  1319   \n",
       "371  OAS2_0186  Nondemented      2       0   63    13  2.0  30.0  0.0  1327   \n",
       "372  OAS2_0186  Nondemented      3       0   65    13  2.0  30.0  0.0  1333   \n",
       "\n",
       "      nWBV    ASF  \n",
       "0    0.696  0.883  \n",
       "1    0.681  0.876  \n",
       "2    0.736  1.046  \n",
       "3    0.713  1.010  \n",
       "4    0.701  1.034  \n",
       "..     ...    ...  \n",
       "368  0.694  1.037  \n",
       "369  0.675  1.040  \n",
       "370  0.801  1.331  \n",
       "371  0.796  1.323  \n",
       "372  0.801  1.317  \n",
       "\n",
       "[373 rows x 12 columns]"
      ]
     },
     "execution_count": 2,
     "metadata": {},
     "output_type": "execute_result"
    }
   ],
   "source": [
    "oasis_df = pd.read_csv('oasis_longitudinal.csv')\n",
    "\n",
    "oasis_df = oasis_df.drop(['MRI ID','MR Delay', 'Hand'], axis=1)\n",
    "oasis_df = oasis_df.rename({'Subject ID': 'Subject_ID', \"M/F\" : 'Gender'}, axis=1)\n",
    "oasis_df['Gender'] = oasis_df['Gender'].astype('category')\n",
    "oasis_df['Gender'] = oasis_df['Gender'].cat.codes\n",
    "\n",
    "oasis_df"
   ]
  },
  {
   "cell_type": "markdown",
   "metadata": {},
   "source": [
    "The dummy coding is done here for the 'Group' column as these are categorical. Also we want to remove the participants who already have dementia as we want to see what potentially affects whether someone develops dementia."
   ]
  },
  {
   "cell_type": "code",
   "execution_count": 3,
   "metadata": {},
   "outputs": [
    {
     "data": {
      "text/html": [
       "<div>\n",
       "<style scoped>\n",
       "    .dataframe tbody tr th:only-of-type {\n",
       "        vertical-align: middle;\n",
       "    }\n",
       "\n",
       "    .dataframe tbody tr th {\n",
       "        vertical-align: top;\n",
       "    }\n",
       "\n",
       "    .dataframe thead th {\n",
       "        text-align: right;\n",
       "    }\n",
       "</style>\n",
       "<table border=\"1\" class=\"dataframe\">\n",
       "  <thead>\n",
       "    <tr style=\"text-align: right;\">\n",
       "      <th></th>\n",
       "      <th>Subject_ID</th>\n",
       "      <th>Group</th>\n",
       "      <th>Visit</th>\n",
       "      <th>Gender</th>\n",
       "      <th>Age</th>\n",
       "      <th>EDUC</th>\n",
       "      <th>SES</th>\n",
       "      <th>MMSE</th>\n",
       "      <th>CDR</th>\n",
       "      <th>eTIV</th>\n",
       "      <th>nWBV</th>\n",
       "      <th>ASF</th>\n",
       "      <th>Converted</th>\n",
       "      <th>Demented</th>\n",
       "      <th>Nondemented</th>\n",
       "    </tr>\n",
       "  </thead>\n",
       "  <tbody>\n",
       "    <tr>\n",
       "      <th>0</th>\n",
       "      <td>OAS2_0001</td>\n",
       "      <td>Nondemented</td>\n",
       "      <td>1</td>\n",
       "      <td>1</td>\n",
       "      <td>87</td>\n",
       "      <td>14</td>\n",
       "      <td>2.0</td>\n",
       "      <td>27.0</td>\n",
       "      <td>0.0</td>\n",
       "      <td>1987</td>\n",
       "      <td>0.696</td>\n",
       "      <td>0.883</td>\n",
       "      <td>0</td>\n",
       "      <td>0</td>\n",
       "      <td>1</td>\n",
       "    </tr>\n",
       "    <tr>\n",
       "      <th>5</th>\n",
       "      <td>OAS2_0004</td>\n",
       "      <td>Nondemented</td>\n",
       "      <td>1</td>\n",
       "      <td>0</td>\n",
       "      <td>88</td>\n",
       "      <td>18</td>\n",
       "      <td>3.0</td>\n",
       "      <td>28.0</td>\n",
       "      <td>0.0</td>\n",
       "      <td>1215</td>\n",
       "      <td>0.710</td>\n",
       "      <td>1.444</td>\n",
       "      <td>0</td>\n",
       "      <td>0</td>\n",
       "      <td>1</td>\n",
       "    </tr>\n",
       "    <tr>\n",
       "      <th>7</th>\n",
       "      <td>OAS2_0005</td>\n",
       "      <td>Nondemented</td>\n",
       "      <td>1</td>\n",
       "      <td>1</td>\n",
       "      <td>80</td>\n",
       "      <td>12</td>\n",
       "      <td>4.0</td>\n",
       "      <td>28.0</td>\n",
       "      <td>0.0</td>\n",
       "      <td>1689</td>\n",
       "      <td>0.712</td>\n",
       "      <td>1.039</td>\n",
       "      <td>0</td>\n",
       "      <td>0</td>\n",
       "      <td>1</td>\n",
       "    </tr>\n",
       "    <tr>\n",
       "      <th>13</th>\n",
       "      <td>OAS2_0008</td>\n",
       "      <td>Nondemented</td>\n",
       "      <td>1</td>\n",
       "      <td>0</td>\n",
       "      <td>93</td>\n",
       "      <td>14</td>\n",
       "      <td>2.0</td>\n",
       "      <td>30.0</td>\n",
       "      <td>0.0</td>\n",
       "      <td>1272</td>\n",
       "      <td>0.698</td>\n",
       "      <td>1.380</td>\n",
       "      <td>0</td>\n",
       "      <td>0</td>\n",
       "      <td>1</td>\n",
       "    </tr>\n",
       "    <tr>\n",
       "      <th>19</th>\n",
       "      <td>OAS2_0012</td>\n",
       "      <td>Nondemented</td>\n",
       "      <td>1</td>\n",
       "      <td>0</td>\n",
       "      <td>78</td>\n",
       "      <td>16</td>\n",
       "      <td>2.0</td>\n",
       "      <td>29.0</td>\n",
       "      <td>0.0</td>\n",
       "      <td>1333</td>\n",
       "      <td>0.748</td>\n",
       "      <td>1.316</td>\n",
       "      <td>0</td>\n",
       "      <td>0</td>\n",
       "      <td>1</td>\n",
       "    </tr>\n",
       "  </tbody>\n",
       "</table>\n",
       "</div>"
      ],
      "text/plain": [
       "   Subject_ID        Group  Visit  Gender  Age  EDUC  SES  MMSE  CDR  eTIV  \\\n",
       "0   OAS2_0001  Nondemented      1       1   87    14  2.0  27.0  0.0  1987   \n",
       "5   OAS2_0004  Nondemented      1       0   88    18  3.0  28.0  0.0  1215   \n",
       "7   OAS2_0005  Nondemented      1       1   80    12  4.0  28.0  0.0  1689   \n",
       "13  OAS2_0008  Nondemented      1       0   93    14  2.0  30.0  0.0  1272   \n",
       "19  OAS2_0012  Nondemented      1       0   78    16  2.0  29.0  0.0  1333   \n",
       "\n",
       "     nWBV    ASF  Converted  Demented  Nondemented  \n",
       "0   0.696  0.883          0         0            1  \n",
       "5   0.710  1.444          0         0            1  \n",
       "7   0.712  1.039          0         0            1  \n",
       "13  0.698  1.380          0         0            1  \n",
       "19  0.748  1.316          0         0            1  "
      ]
     },
     "execution_count": 3,
     "metadata": {},
     "output_type": "execute_result"
    }
   ],
   "source": [
    "one_visit = oasis_df[oasis_df['Visit'] == 1] # subset of data \n",
    "dummies = pd.get_dummies(one_visit[\"Group\"]) # dummy coding for group\n",
    "one_visit = one_visit.merge(dummies, left_index=True, right_index=True).dropna()\n",
    "one_visit = one_visit[ one_visit[\"Demented\"] != 1 ] # removed participants who already have dementia\n",
    "one_visit.head()"
   ]
  },
  {
   "cell_type": "markdown",
   "metadata": {},
   "source": [
    "### Questions\n",
    "\n",
    "1. Which factors most affect whether a participant develops dementia?\n",
    "2. Which factors affect participants' scores from baseline compared to their second visit? \n",
    "\n",
    "For this post, linear mixed effects models are used instead."
   ]
  },
  {
   "cell_type": "code",
   "execution_count": 4,
   "metadata": {},
   "outputs": [],
   "source": [
    "both_visits = oasis_df[oasis_df['Visit'] <= 2].dropna()\n",
    "\n",
    "both_visits = both_visits.groupby('Subject_ID').filter(lambda x: len(x) == 2)\n",
    "both_visits_EDUC_SES_gender = both_visits[['Subject_ID','EDUC','SES','Gender']] #keep values that do not change\n",
    "both_visits = both_visits.sort_values([\"Subject_ID\", \"Visit\"])\n",
    "both_visits_diff = both_visits.groupby(['Subject_ID'])[['Age', 'MMSE',\n",
    "                                                        'CDR', 'eTIV', 'nWBV', 'ASF']].diff().dropna()\n",
    "both_visits = both_visits[[\"Subject_ID\", \"Group\"]].merge(both_visits_diff, left_index=True, right_index=True)\n",
    "both_visits = both_visits.merge(both_visits_EDUC_SES_gender, left_index=True, right_index=True, suffixes=(None,'_y'))\n",
    "both_visits = both_visits.drop(columns = ['Subject_ID_y'])\n",
    "\n",
    "dummies = pd.get_dummies(both_visits[\"Group\"])\n",
    "both_visits = both_visits.merge(dummies, left_index=True, right_index=True).dropna()\n",
    "\n",
    "both_visits = both_visits[both_visits[\"Demented\"] != 1]\n",
    "both_visits = both_visits.drop(columns='Group')"
   ]
  },
  {
   "cell_type": "markdown",
   "metadata": {},
   "source": [
    "# Preliminary Tests"
   ]
  },
  {
   "cell_type": "code",
   "execution_count": 5,
   "metadata": {},
   "outputs": [],
   "source": [
    "import numpy as np\n",
    "import statsmodels.formula.api as smf\n",
    "import statsmodels.api as sm\n",
    "import pylab as py\n",
    "import seaborn as sns\n",
    "import matplotlib.pyplot as plt"
   ]
  },
  {
   "cell_type": "code",
   "execution_count": 6,
   "metadata": {},
   "outputs": [
    {
     "data": {
      "text/html": [
       "<div>\n",
       "<style scoped>\n",
       "    .dataframe tbody tr th:only-of-type {\n",
       "        vertical-align: middle;\n",
       "    }\n",
       "\n",
       "    .dataframe tbody tr th {\n",
       "        vertical-align: top;\n",
       "    }\n",
       "\n",
       "    .dataframe thead th {\n",
       "        text-align: right;\n",
       "    }\n",
       "</style>\n",
       "<table border=\"1\" class=\"dataframe\">\n",
       "  <thead>\n",
       "    <tr style=\"text-align: right;\">\n",
       "      <th></th>\n",
       "      <th>Subject_ID</th>\n",
       "      <th>Age</th>\n",
       "      <th>MMSE</th>\n",
       "      <th>CDR</th>\n",
       "      <th>eTIV</th>\n",
       "      <th>nWBV</th>\n",
       "      <th>ASF</th>\n",
       "      <th>EDUC</th>\n",
       "      <th>SES</th>\n",
       "      <th>Gender</th>\n",
       "      <th>Converted</th>\n",
       "      <th>Demented</th>\n",
       "      <th>Nondemented</th>\n",
       "    </tr>\n",
       "  </thead>\n",
       "  <tbody>\n",
       "    <tr>\n",
       "      <th>1</th>\n",
       "      <td>OAS2_0001</td>\n",
       "      <td>1.0</td>\n",
       "      <td>3.0</td>\n",
       "      <td>0.0</td>\n",
       "      <td>17.0</td>\n",
       "      <td>-0.015</td>\n",
       "      <td>-0.007</td>\n",
       "      <td>14</td>\n",
       "      <td>2.0</td>\n",
       "      <td>1</td>\n",
       "      <td>0</td>\n",
       "      <td>0</td>\n",
       "      <td>1</td>\n",
       "    </tr>\n",
       "    <tr>\n",
       "      <th>6</th>\n",
       "      <td>OAS2_0004</td>\n",
       "      <td>2.0</td>\n",
       "      <td>-1.0</td>\n",
       "      <td>0.0</td>\n",
       "      <td>-15.0</td>\n",
       "      <td>0.008</td>\n",
       "      <td>0.018</td>\n",
       "      <td>18</td>\n",
       "      <td>3.0</td>\n",
       "      <td>0</td>\n",
       "      <td>0</td>\n",
       "      <td>0</td>\n",
       "      <td>1</td>\n",
       "    </tr>\n",
       "    <tr>\n",
       "      <th>8</th>\n",
       "      <td>OAS2_0005</td>\n",
       "      <td>3.0</td>\n",
       "      <td>1.0</td>\n",
       "      <td>0.5</td>\n",
       "      <td>12.0</td>\n",
       "      <td>-0.001</td>\n",
       "      <td>-0.007</td>\n",
       "      <td>12</td>\n",
       "      <td>4.0</td>\n",
       "      <td>1</td>\n",
       "      <td>0</td>\n",
       "      <td>0</td>\n",
       "      <td>1</td>\n",
       "    </tr>\n",
       "    <tr>\n",
       "      <th>14</th>\n",
       "      <td>OAS2_0008</td>\n",
       "      <td>2.0</td>\n",
       "      <td>-1.0</td>\n",
       "      <td>0.0</td>\n",
       "      <td>-15.0</td>\n",
       "      <td>0.005</td>\n",
       "      <td>0.016</td>\n",
       "      <td>14</td>\n",
       "      <td>2.0</td>\n",
       "      <td>0</td>\n",
       "      <td>0</td>\n",
       "      <td>0</td>\n",
       "      <td>1</td>\n",
       "    </tr>\n",
       "    <tr>\n",
       "      <th>20</th>\n",
       "      <td>OAS2_0012</td>\n",
       "      <td>2.0</td>\n",
       "      <td>0.0</td>\n",
       "      <td>0.0</td>\n",
       "      <td>-10.0</td>\n",
       "      <td>-0.010</td>\n",
       "      <td>0.010</td>\n",
       "      <td>16</td>\n",
       "      <td>2.0</td>\n",
       "      <td>0</td>\n",
       "      <td>0</td>\n",
       "      <td>0</td>\n",
       "      <td>1</td>\n",
       "    </tr>\n",
       "  </tbody>\n",
       "</table>\n",
       "</div>"
      ],
      "text/plain": [
       "   Subject_ID  Age  MMSE  CDR  eTIV   nWBV    ASF  EDUC  SES  Gender  \\\n",
       "1   OAS2_0001  1.0   3.0  0.0  17.0 -0.015 -0.007    14  2.0       1   \n",
       "6   OAS2_0004  2.0  -1.0  0.0 -15.0  0.008  0.018    18  3.0       0   \n",
       "8   OAS2_0005  3.0   1.0  0.5  12.0 -0.001 -0.007    12  4.0       1   \n",
       "14  OAS2_0008  2.0  -1.0  0.0 -15.0  0.005  0.016    14  2.0       0   \n",
       "20  OAS2_0012  2.0   0.0  0.0 -10.0 -0.010  0.010    16  2.0       0   \n",
       "\n",
       "    Converted  Demented  Nondemented  \n",
       "1           0         0            1  \n",
       "6           0         0            1  \n",
       "8           0         0            1  \n",
       "14          0         0            1  \n",
       "20          0         0            1  "
      ]
     },
     "execution_count": 6,
     "metadata": {},
     "output_type": "execute_result"
    }
   ],
   "source": [
    "both_visits.head()"
   ]
  },
  {
   "cell_type": "code",
   "execution_count": 7,
   "metadata": {},
   "outputs": [
    {
     "data": {
      "text/html": [
       "<div>\n",
       "<style scoped>\n",
       "    .dataframe tbody tr th:only-of-type {\n",
       "        vertical-align: middle;\n",
       "    }\n",
       "\n",
       "    .dataframe tbody tr th {\n",
       "        vertical-align: top;\n",
       "    }\n",
       "\n",
       "    .dataframe thead th {\n",
       "        text-align: right;\n",
       "    }\n",
       "</style>\n",
       "<table border=\"1\" class=\"dataframe\">\n",
       "  <thead>\n",
       "    <tr style=\"text-align: right;\">\n",
       "      <th></th>\n",
       "      <th>sum_sq</th>\n",
       "      <th>df</th>\n",
       "      <th>F</th>\n",
       "      <th>PR(&gt;F)</th>\n",
       "    </tr>\n",
       "  </thead>\n",
       "  <tbody>\n",
       "    <tr>\n",
       "      <th>MMSE</th>\n",
       "      <td>1.274274</td>\n",
       "      <td>1.0</td>\n",
       "      <td>12.471175</td>\n",
       "      <td>0.000720</td>\n",
       "    </tr>\n",
       "    <tr>\n",
       "      <th>SES</th>\n",
       "      <td>0.962042</td>\n",
       "      <td>1.0</td>\n",
       "      <td>9.415391</td>\n",
       "      <td>0.003019</td>\n",
       "    </tr>\n",
       "    <tr>\n",
       "      <th>Age</th>\n",
       "      <td>0.602529</td>\n",
       "      <td>1.0</td>\n",
       "      <td>5.896878</td>\n",
       "      <td>0.017632</td>\n",
       "    </tr>\n",
       "    <tr>\n",
       "      <th>EDUC</th>\n",
       "      <td>0.545404</td>\n",
       "      <td>1.0</td>\n",
       "      <td>5.337811</td>\n",
       "      <td>0.023696</td>\n",
       "    </tr>\n",
       "    <tr>\n",
       "      <th>Gender</th>\n",
       "      <td>0.136944</td>\n",
       "      <td>1.0</td>\n",
       "      <td>1.340251</td>\n",
       "      <td>0.250764</td>\n",
       "    </tr>\n",
       "    <tr>\n",
       "      <th>ASF</th>\n",
       "      <td>0.035178</td>\n",
       "      <td>1.0</td>\n",
       "      <td>0.344279</td>\n",
       "      <td>0.559180</td>\n",
       "    </tr>\n",
       "    <tr>\n",
       "      <th>eTIV</th>\n",
       "      <td>0.033727</td>\n",
       "      <td>1.0</td>\n",
       "      <td>0.330083</td>\n",
       "      <td>0.567377</td>\n",
       "    </tr>\n",
       "    <tr>\n",
       "      <th>nWBV</th>\n",
       "      <td>0.000235</td>\n",
       "      <td>1.0</td>\n",
       "      <td>0.002301</td>\n",
       "      <td>0.961871</td>\n",
       "    </tr>\n",
       "    <tr>\n",
       "      <th>Residual</th>\n",
       "      <td>7.458961</td>\n",
       "      <td>73.0</td>\n",
       "      <td>NaN</td>\n",
       "      <td>NaN</td>\n",
       "    </tr>\n",
       "  </tbody>\n",
       "</table>\n",
       "</div>"
      ],
      "text/plain": [
       "            sum_sq    df          F    PR(>F)\n",
       "MMSE      1.274274   1.0  12.471175  0.000720\n",
       "SES       0.962042   1.0   9.415391  0.003019\n",
       "Age       0.602529   1.0   5.896878  0.017632\n",
       "EDUC      0.545404   1.0   5.337811  0.023696\n",
       "Gender    0.136944   1.0   1.340251  0.250764\n",
       "ASF       0.035178   1.0   0.344279  0.559180\n",
       "eTIV      0.033727   1.0   0.330083  0.567377\n",
       "nWBV      0.000235   1.0   0.002301  0.961871\n",
       "Residual  7.458961  73.0        NaN       NaN"
      ]
     },
     "metadata": {},
     "output_type": "display_data"
    }
   ],
   "source": [
    "model_fit = smf.ols('Converted ~ Age+EDUC+SES+MMSE+eTIV+nWBV+ASF+Gender', data=both_visits).fit()\n",
    "\n",
    "X = pd.DataFrame(both_visits, columns=['Age','EDUC','SES', 'MMSE','eTIV','nWBV','ASF', 'Gender'])\n",
    "y = pd.DataFrame(both_visits.Converted)\n",
    "dataframe = pd.concat([X, y], axis=1)\n",
    "\n",
    "table = sm.stats.anova_lm(model_fit, typ=2)\n",
    "with pd.option_context('display.max_rows', None, 'display.max_columns', None):  \n",
    "    display(table.sort_values(\"F\", ascending=False))"
   ]
  },
  {
   "cell_type": "code",
   "execution_count": 8,
   "metadata": {},
   "outputs": [],
   "source": [
    "#model values \n",
    "model_fitted_y = model_fit.fittedvalues\n",
    "model_residuals = model_fit.resid\n",
    "model_norm_residuals = model_fit.get_influence().resid_studentized_internal\n",
    "model_norm_residuals_abs_sqrt = np.sqrt(np.abs(model_norm_residuals))\n",
    "model_abs_resid = np.abs(model_residuals)\n",
    "model_leverage = model_fit.get_influence().hat_matrix_diag\n",
    "model_cooks = model_fit.get_influence().cooks_distance[0]"
   ]
  },
  {
   "cell_type": "markdown",
   "metadata": {},
   "source": [
    "## Q-Q plot \n",
    "\n",
    "In order to check whether the data used is normally distributed, we can use a quantile-quantile plot. It is a probability plot comparing two probability distributions where the x coordinate is a theoretical quantile and the y-coordinate is the quantile from the actual data. If the distribution is normal then the points will roughly lie on the line *y = x*."
   ]
  },
  {
   "cell_type": "code",
   "execution_count": 9,
   "metadata": {},
   "outputs": [
    {
     "data": {
      "image/png": "[encoded data removed]",
      "text/plain": [
       "<Figure size 432x288 with 1 Axes>"
      ]
     },
     "metadata": {
      "needs_background": "light"
     },
     "output_type": "display_data"
    }
   ],
   "source": [
    "from statsmodels.graphics.gofplots import ProbPlot\n",
    "\n",
    "QQ = ProbPlot(model_norm_residuals)\n",
    "plot_lm_2 = QQ.qqplot(line='45', alpha=0.5, color='#4C72B0', lw=1)\n",
    "plot_lm_2.axes[0].set_title('Normal Q-Q Plot')\n",
    "plot_lm_2.axes[0].set_xlabel('Theoretical Quantiles')\n",
    "plot_lm_2.axes[0].set_ylabel('Standardized Residuals');"
   ]
  },
  {
   "cell_type": "markdown",
   "metadata": {},
   "source": [
    "The Q-Q plot shows that there are many outliers that do not fit well on the line indication a deviation from a normal distribution. This makes it evident that another type of statistical model might be better for this dataset. "
   ]
  },
  {
   "cell_type": "markdown",
   "metadata": {},
   "source": [
    "## Shapiro-Wilk Test\n",
    "Another more robust test for normality is the Shapiro-Wilk Test (Shapiro & Wilk, 1965) and this was applied to the measures from the data below. For this test the null hypothesis if that the observations are normally distributed."
   ]
  },
  {
   "cell_type": "code",
   "execution_count": 10,
   "metadata": {},
   "outputs": [],
   "source": [
    "from scipy.stats import shapiro\n",
    "from tabulate import tabulate"
   ]
  },
  {
   "cell_type": "code",
   "execution_count": 11,
   "metadata": {},
   "outputs": [
    {
     "name": "stdout",
     "output_type": "stream",
     "text": [
      "Shapiro-Wilk Test \n",
      "\n",
      " Measure   |   W statistic |     p value\n",
      "-----------+---------------+-------------\n",
      " Age       |      0.84819  | 1.06861e-07\n",
      " MMSE      |      0.857197 | 2.17703e-07\n",
      " CDR       |      0.431455 | 3.12775e-16\n",
      " eTIV      |      0.859982 | 2.72737e-07\n",
      " nWBV      |      0.987887 | 0.640755\n",
      " ASF       |      0.878246 | 1.28239e-06\n",
      " EDUC      |      0.933238 | 0.000356511\n",
      " SES       |      0.876038 | 1.05635e-06\n",
      " Gender    |      0.578552 | 5.53986e-14\n"
     ]
    },
    {
     "name": "stderr",
     "output_type": "stream",
     "text": [
      "/usr/local/lib/python3.8/site-packages/scipy/stats/morestats.py:1678: UserWarning: Input data for shapiro has range zero. The results may not be accurate.\n",
      "  warnings.warn(\"Input data for shapiro has range zero. The results \"\n"
     ]
    }
   ],
   "source": [
    "shapiro_results = []\n",
    "\n",
    "for column in both_visits:\n",
    "    try:\n",
    "        s = shapiro(both_visits[column])\n",
    "        shapiro_results.append([column, s.statistic, s.pvalue])\n",
    "    except Exception as e:\n",
    "        pass\n",
    "\n",
    "df = pd.DataFrame(shapiro_results)\n",
    "df = df.drop([9,10,11], axis=0) #drop dummy measures\n",
    "print('Shapiro-Wilk Test \\n')\n",
    "print(tabulate(df, headers=['Measure', 'W statistic', 'p value'],showindex=\"never\",tablefmt=\"presto\"))  "
   ]
  },
  {
   "cell_type": "markdown",
   "metadata": {},
   "source": [
    "The only variable that seems to be normally distributed here is the nWBV with W = 0.99 and p value = .64, indicating normality. This is expected as these values have already been normalised as mentioned in the paper. "
   ]
  },
  {
   "cell_type": "markdown",
   "metadata": {},
   "source": [
    "## Linear Mixed Effects Models"
   ]
  },
  {
   "cell_type": "markdown",
   "metadata": {},
   "source": [
    "In this first model, using the statsmodel function *mixedlm()*, five of the variables are treated as fixed effects with subject as the random effect as defined in the argument *groups*. This would be the equivalent of \\begin{equation*} Converted \\backsim MMSE... + (1 | Subject)\\end{equation*} in R. All of the effects are calculated here in terms of interactions and simple effects. By default and because I have not specified it there is a random intercept for each group. The Bayesian Information Criteria (BIC) is pulled here as well to have a criteria for model fitting: the higher the score, the better. However it should be noted that every time a variable is added this score will increase. "
   ]
  },
  {
   "cell_type": "code",
   "execution_count": 12,
   "metadata": {},
   "outputs": [
    {
     "name": "stderr",
     "output_type": "stream",
     "text": [
      "/usr/local/lib/python3.8/site-packages/statsmodels/regression/mixed_linear_model.py:2189: ConvergenceWarning: The Hessian matrix at the estimated parameter values is not positive definite.\n",
      "  warnings.warn(msg, ConvergenceWarning)\n"
     ]
    }
   ],
   "source": [
    "#fit model\n",
    "mixed = smf.mixedlm('Converted ~ MMSE*nWBV*eTIV*EDUC*SES',data=both_visits, groups=both_visits['Subject_ID'])\n",
    "mixed_fit = mixed.fit(reml=False)"
   ]
  },
  {
   "cell_type": "code",
   "execution_count": 13,
   "metadata": {},
   "outputs": [
    {
     "name": "stdout",
     "output_type": "stream",
     "text": [
      "                Mixed Linear Model Regression Results\n",
      "======================================================================\n",
      "Model:                 MixedLM      Dependent Variable:      Converted\n",
      "No. Observations:      82           Method:                  ML       \n",
      "No. Groups:            82           Scale:                   0.0307   \n",
      "Min. group size:       1            Log-Likelihood:          -1.9069  \n",
      "Max. group size:       1            Converged:               Yes      \n",
      "Mean group size:       1.0                                            \n",
      "----------------------------------------------------------------------\n",
      "                         Coef.  Std.Err.   z    P>|z|  [0.025   0.975]\n",
      "----------------------------------------------------------------------\n",
      "Intercept                 0.094    0.715  0.131 0.896   -1.308   1.496\n",
      "MMSE                     -0.904    0.732 -1.234 0.217   -2.338   0.531\n",
      "nWBV                    -21.038   77.849 -0.270 0.787 -173.618 131.543\n",
      "MMSE:nWBV               -43.271   60.534 -0.715 0.475 -161.916  75.374\n",
      "eTIV                      0.007    0.050  0.132 0.895   -0.092   0.106\n",
      "MMSE:eTIV                 0.252    0.075  3.379 0.001    0.106   0.398\n",
      "nWBV:eTIV                -2.221    6.510 -0.341 0.733  -14.980  10.538\n",
      "MMSE:nWBV:eTIV           17.493    5.061  3.456 0.001    7.573  27.413\n",
      "EDUC                      0.006    0.043  0.149 0.881   -0.078   0.091\n",
      "MMSE:EDUC                 0.078    0.050  1.552 0.121   -0.021   0.177\n",
      "nWBV:EDUC                 1.439    5.041  0.285 0.775   -8.442  11.319\n",
      "MMSE:nWBV:EDUC            5.166    4.077  1.267 0.205   -2.825  13.156\n",
      "eTIV:EDUC                -0.000    0.003 -0.003 0.998   -0.006   0.006\n",
      "MMSE:eTIV:EDUC           -0.016    0.005 -3.350 0.001   -0.026  -0.007\n",
      "nWBV:eTIV:EDUC            0.013    0.409  0.032 0.974   -0.788   0.814\n",
      "MMSE:nWBV:eTIV:EDUC      -1.143    0.328 -3.485 0.000   -1.786  -0.500\n",
      "SES                       0.242    0.252  0.959 0.337   -0.253   0.737\n",
      "MMSE:SES                  0.267    0.251  1.061 0.289   -0.226   0.760\n",
      "nWBV:SES                 34.571   27.602  1.252 0.210  -19.528  88.671\n",
      "MMSE:nWBV:SES            27.258   24.879  1.096 0.273  -21.503  76.020\n",
      "eTIV:SES                  0.021    0.022  0.960 0.337   -0.022   0.065\n",
      "MMSE:eTIV:SES            -0.103    0.029 -3.577 0.000   -0.159  -0.046\n",
      "nWBV:eTIV:SES             0.131    2.114  0.062 0.950   -4.011   4.274\n",
      "MMSE:nWBV:eTIV:SES       -7.349    1.830 -4.015 0.000  -10.936  -3.761\n",
      "EDUC:SES                 -0.021    0.018 -1.156 0.248   -0.055   0.014\n",
      "MMSE:EDUC:SES            -0.026    0.019 -1.368 0.171   -0.063   0.011\n",
      "nWBV:EDUC:SES            -2.718    2.036 -1.335 0.182   -6.708   1.271\n",
      "MMSE:nWBV:EDUC:SES       -2.800    1.827 -1.533 0.125   -6.381   0.781\n",
      "eTIV:EDUC:SES            -0.001    0.002 -0.892 0.372   -0.004   0.002\n",
      "MMSE:eTIV:EDUC:SES        0.007    0.002  3.341 0.001    0.003   0.011\n",
      "nWBV:eTIV:EDUC:SES        0.069    0.144  0.479 0.632   -0.214   0.352\n",
      "MMSE:nWBV:eTIV:EDUC:SES   0.493    0.135  3.656 0.000    0.229   0.758\n",
      "Group Var                 0.031                                       \n",
      "======================================================================\n",
      "\n",
      "Bayesian Information Criteria (BIC):  153.6421986502787\n"
     ]
    }
   ],
   "source": [
    "#print summary\n",
    "mixed_fit_results = mixed_fit.summary()\n",
    "print(mixed_fit_results)\n",
    "BIC_1 = mixed_fit.bic\n",
    "print('Bayesian Information Criteria (BIC): ', BIC_1) "
   ]
  },
  {
   "cell_type": "code",
   "execution_count": 14,
   "metadata": {},
   "outputs": [],
   "source": [
    "#convert summary results to dataframe\n",
    "def summary_to_df(results):\n",
    "    pvals = results.pvalues\n",
    "    coeff = results.params\n",
    "    conf_lower = results.conf_int()[0] #lower confidence interval of the fitted parameters\n",
    "    conf_higher = results.conf_int()[1]\n",
    "\n",
    "    results_df = pd.DataFrame({\"pvals\":pvals,\n",
    "                               \"coeff\":coeff,\n",
    "                               \"conf_lower\":conf_lower,\n",
    "                               \"conf_higher\":conf_higher\n",
    "                                })\n",
    "\n",
    "    results_df = results_df[[\"coeff\",\"pvals\",\"conf_lower\",\"conf_higher\"]]\n",
    "    return results_df"
   ]
  },
  {
   "cell_type": "code",
   "execution_count": 15,
   "metadata": {},
   "outputs": [
    {
     "data": {
      "text/html": [
       "<div>\n",
       "<style scoped>\n",
       "    .dataframe tbody tr th:only-of-type {\n",
       "        vertical-align: middle;\n",
       "    }\n",
       "\n",
       "    .dataframe tbody tr th {\n",
       "        vertical-align: top;\n",
       "    }\n",
       "\n",
       "    .dataframe thead th {\n",
       "        text-align: right;\n",
       "    }\n",
       "</style>\n",
       "<table border=\"1\" class=\"dataframe\">\n",
       "  <thead>\n",
       "    <tr style=\"text-align: right;\">\n",
       "      <th></th>\n",
       "      <th>coeff</th>\n",
       "      <th>pvals</th>\n",
       "      <th>conf_lower</th>\n",
       "      <th>conf_higher</th>\n",
       "    </tr>\n",
       "  </thead>\n",
       "  <tbody>\n",
       "    <tr>\n",
       "      <th>MMSE:eTIV</th>\n",
       "      <td>0.251948</td>\n",
       "      <td>0.000726</td>\n",
       "      <td>0.105827</td>\n",
       "      <td>0.398068</td>\n",
       "    </tr>\n",
       "    <tr>\n",
       "      <th>MMSE:nWBV:eTIV</th>\n",
       "      <td>17.493033</td>\n",
       "      <td>0.000548</td>\n",
       "      <td>7.572879</td>\n",
       "      <td>27.413187</td>\n",
       "    </tr>\n",
       "    <tr>\n",
       "      <th>MMSE:eTIV:EDUC</th>\n",
       "      <td>-0.016371</td>\n",
       "      <td>0.000809</td>\n",
       "      <td>-0.025949</td>\n",
       "      <td>-0.006792</td>\n",
       "    </tr>\n",
       "    <tr>\n",
       "      <th>MMSE:nWBV:eTIV:EDUC</th>\n",
       "      <td>-1.143294</td>\n",
       "      <td>0.000492</td>\n",
       "      <td>-1.786245</td>\n",
       "      <td>-0.500342</td>\n",
       "    </tr>\n",
       "    <tr>\n",
       "      <th>MMSE:eTIV:SES</th>\n",
       "      <td>-0.102714</td>\n",
       "      <td>0.000348</td>\n",
       "      <td>-0.158998</td>\n",
       "      <td>-0.046431</td>\n",
       "    </tr>\n",
       "    <tr>\n",
       "      <th>MMSE:nWBV:eTIV:SES</th>\n",
       "      <td>-7.348724</td>\n",
       "      <td>0.000059</td>\n",
       "      <td>-10.936178</td>\n",
       "      <td>-3.761270</td>\n",
       "    </tr>\n",
       "    <tr>\n",
       "      <th>MMSE:eTIV:EDUC:SES</th>\n",
       "      <td>0.006792</td>\n",
       "      <td>0.000834</td>\n",
       "      <td>0.002808</td>\n",
       "      <td>0.010776</td>\n",
       "    </tr>\n",
       "    <tr>\n",
       "      <th>MMSE:nWBV:eTIV:EDUC:SES</th>\n",
       "      <td>0.493338</td>\n",
       "      <td>0.000256</td>\n",
       "      <td>0.228863</td>\n",
       "      <td>0.757812</td>\n",
       "    </tr>\n",
       "  </tbody>\n",
       "</table>\n",
       "</div>"
      ],
      "text/plain": [
       "                             coeff     pvals  conf_lower  conf_higher\n",
       "MMSE:eTIV                 0.251948  0.000726    0.105827     0.398068\n",
       "MMSE:nWBV:eTIV           17.493033  0.000548    7.572879    27.413187\n",
       "MMSE:eTIV:EDUC           -0.016371  0.000809   -0.025949    -0.006792\n",
       "MMSE:nWBV:eTIV:EDUC      -1.143294  0.000492   -1.786245    -0.500342\n",
       "MMSE:eTIV:SES            -0.102714  0.000348   -0.158998    -0.046431\n",
       "MMSE:nWBV:eTIV:SES       -7.348724  0.000059  -10.936178    -3.761270\n",
       "MMSE:eTIV:EDUC:SES        0.006792  0.000834    0.002808     0.010776\n",
       "MMSE:nWBV:eTIV:EDUC:SES   0.493338  0.000256    0.228863     0.757812"
      ]
     },
     "execution_count": 15,
     "metadata": {},
     "output_type": "execute_result"
    }
   ],
   "source": [
    "summary_df = summary_to_df(mixed_fit)\n",
    "sig_pvals = summary_df[summary_df ['pvals']<= 0.05]\n",
    "sig_pvals"
   ]
  },
  {
   "cell_type": "markdown",
   "metadata": {},
   "source": [
    "We can see the significant effects of the interactions here. It seems that the combinations of these variables is an important measure for the question."
   ]
  },
  {
   "cell_type": "code",
   "execution_count": 16,
   "metadata": {},
   "outputs": [
    {
     "name": "stdout",
     "output_type": "stream",
     "text": [
      "         Mixed Linear Model Regression Results\n",
      "=======================================================\n",
      "Model:            MixedLM Dependent Variable: Converted\n",
      "No. Observations: 82      Method:             ML       \n",
      "No. Groups:       82      Scale:              0.0457   \n",
      "Min. group size:  1       Log-Likelihood:     -18.2564 \n",
      "Max. group size:  1       Converged:          Yes      \n",
      "Mean group size:  1.0                                  \n",
      "-------------------------------------------------------\n",
      "             Coef.  Std.Err.   z    P>|z| [0.025 0.975]\n",
      "-------------------------------------------------------\n",
      "Intercept     0.849    0.199  4.274 0.000  0.460  1.239\n",
      "MMSE         -0.098    0.026 -3.792 0.000 -0.149 -0.048\n",
      "SES          -0.144    0.029 -4.997 0.000 -0.200 -0.087\n",
      "EDUC         -0.043    0.009 -4.695 0.000 -0.061 -0.025\n",
      "nWBV         -0.553    4.346 -0.127 0.899 -9.071  7.966\n",
      "eTIV         -0.000    0.002 -0.021 0.983 -0.003  0.003\n",
      "Age           0.109    0.041  2.636 0.008  0.028  0.189\n",
      "Gender        0.089    0.074  1.205 0.228 -0.056  0.233\n",
      "Group Var     0.046                                    \n",
      "=======================================================\n",
      "\n",
      "Bayesian Information Criteria (BIC):  80.58007408355029\n"
     ]
    },
    {
     "name": "stderr",
     "output_type": "stream",
     "text": [
      "/usr/local/lib/python3.8/site-packages/statsmodels/regression/mixed_linear_model.py:2189: ConvergenceWarning: The Hessian matrix at the estimated parameter values is not positive definite.\n",
      "  warnings.warn(msg, ConvergenceWarning)\n"
     ]
    }
   ],
   "source": [
    "#fit model 2 \n",
    "mixed2 = smf.mixedlm('Converted ~ MMSE+SES+EDUC+nWBV+eTIV+Age+Gender',data=both_visits, groups=both_visits['Subject_ID'])\n",
    "mixed2_fit = mixed2.fit(reml=False)\n",
    "\n",
    "print(mixed2_fit.summary())\n",
    "print('Bayesian Information Criteria (BIC): ', mixed2_fit.bic) "
   ]
  },
  {
   "cell_type": "markdown",
   "metadata": {},
   "source": [
    "The second LME model only measures the simple effects of the fixed effects. The BIC is a lot smaller as there are fewer observations. "
   ]
  },
  {
   "cell_type": "code",
   "execution_count": 17,
   "metadata": {},
   "outputs": [
    {
     "data": {
      "text/html": [
       "<div>\n",
       "<style scoped>\n",
       "    .dataframe tbody tr th:only-of-type {\n",
       "        vertical-align: middle;\n",
       "    }\n",
       "\n",
       "    .dataframe tbody tr th {\n",
       "        vertical-align: top;\n",
       "    }\n",
       "\n",
       "    .dataframe thead th {\n",
       "        text-align: right;\n",
       "    }\n",
       "</style>\n",
       "<table border=\"1\" class=\"dataframe\">\n",
       "  <thead>\n",
       "    <tr style=\"text-align: right;\">\n",
       "      <th></th>\n",
       "      <th>coeff</th>\n",
       "      <th>pvals</th>\n",
       "      <th>conf_lower</th>\n",
       "      <th>conf_higher</th>\n",
       "    </tr>\n",
       "  </thead>\n",
       "  <tbody>\n",
       "    <tr>\n",
       "      <th>Intercept</th>\n",
       "      <td>0.849244</td>\n",
       "      <td>1.921953e-05</td>\n",
       "      <td>0.459778</td>\n",
       "      <td>1.238711</td>\n",
       "    </tr>\n",
       "    <tr>\n",
       "      <th>MMSE</th>\n",
       "      <td>-0.098328</td>\n",
       "      <td>1.494001e-04</td>\n",
       "      <td>-0.149149</td>\n",
       "      <td>-0.047506</td>\n",
       "    </tr>\n",
       "    <tr>\n",
       "      <th>SES</th>\n",
       "      <td>-0.143899</td>\n",
       "      <td>5.828538e-07</td>\n",
       "      <td>-0.200342</td>\n",
       "      <td>-0.087456</td>\n",
       "    </tr>\n",
       "    <tr>\n",
       "      <th>EDUC</th>\n",
       "      <td>-0.042990</td>\n",
       "      <td>2.666300e-06</td>\n",
       "      <td>-0.060937</td>\n",
       "      <td>-0.025043</td>\n",
       "    </tr>\n",
       "    <tr>\n",
       "      <th>Age</th>\n",
       "      <td>0.108547</td>\n",
       "      <td>8.391635e-03</td>\n",
       "      <td>0.027835</td>\n",
       "      <td>0.189259</td>\n",
       "    </tr>\n",
       "  </tbody>\n",
       "</table>\n",
       "</div>"
      ],
      "text/plain": [
       "              coeff         pvals  conf_lower  conf_higher\n",
       "Intercept  0.849244  1.921953e-05    0.459778     1.238711\n",
       "MMSE      -0.098328  1.494001e-04   -0.149149    -0.047506\n",
       "SES       -0.143899  5.828538e-07   -0.200342    -0.087456\n",
       "EDUC      -0.042990  2.666300e-06   -0.060937    -0.025043\n",
       "Age        0.108547  8.391635e-03    0.027835     0.189259"
      ]
     },
     "execution_count": 17,
     "metadata": {},
     "output_type": "execute_result"
    }
   ],
   "source": [
    "summary_df2 = summary_to_df(mixed2_fit)\n",
    "sig_pvals2 = summary_df2[summary_df2['pvals'] <= 0.05]\n",
    "sig_pvals2"
   ]
  },
  {
   "cell_type": "markdown",
   "metadata": {},
   "source": [
    "The estimated p values show that the four variables that seem to have the most effect on the Converted variable is: MMSE, SES, EDUC and Age. Age is perhaps a variable that should not be included in the model as dementia is an age-related disorder we would expect that as age increases so does the risk of dementia. However it is interesting to see SES, MMSE and EDUC which are most likely connected especially in certain countries with starker disparities in wealth. Let's go back to the original dataset and look at these potential relationships. I have used a subset of the dataset named *one_visit* which contains only the first visit i.e. the baseline values because all of the participants had at least one visit. Also the effect of time on the scores especially for MMSE will change and there will be multiple scores for one participant. "
   ]
  },
  {
   "cell_type": "code",
   "execution_count": 18,
   "metadata": {},
   "outputs": [
    {
     "name": "stdout",
     "output_type": "stream",
     "text": [
      "R-Squared: 0.47\n"
     ]
    },
    {
     "data": {
      "image/png": "[encoded data removed]",
      "text/plain": [
       "<Figure size 432x288 with 1 Axes>"
      ]
     },
     "metadata": {
      "needs_background": "light"
     },
     "output_type": "display_data"
    }
   ],
   "source": [
    "oasis_df2 = oasis_df.dropna() #remove missing scores\n",
    "\n",
    "g = sns.regplot(x='SES',y='EDUC', data=one_visit,color=\"skyblue\", scatter_kws={'s':30}, label = 'A');\n",
    "g = g.set(xlim=(0,6), xlabel=\"SES (1-5)\", ylabel=\"Education (Years)\")\n",
    "\n",
    "\n",
    "correlation_matrix = np.corrcoef(one_visit['SES'], one_visit['EDUC'])\n",
    "correlation_xy = correlation_matrix[0,1]\n",
    "r_squared = correlation_xy**2\n",
    "\n",
    "\n",
    "print(\"R-Squared:\",\"{:.2f}\".format(r_squared))\n"
   ]
  },
  {
   "cell_type": "code",
   "execution_count": 19,
   "metadata": {},
   "outputs": [
    {
     "name": "stdout",
     "output_type": "stream",
     "text": [
      "R-Squared: 0.0002\n"
     ]
    },
    {
     "data": {
      "image/png": "[encoded data removed]",
      "text/plain": [
       "<Figure size 432x288 with 1 Axes>"
      ]
     },
     "metadata": {
      "needs_background": "light"
     },
     "output_type": "display_data"
    }
   ],
   "source": [
    "g2 = sns.regplot(x='SES',y='MMSE', data=one_visit);\n",
    "g2 = g2.set(xlim=(0, 6))\n",
    "\n",
    "correlation_matrix = np.corrcoef(one_visit['SES'], one_visit['MMSE'])\n",
    "correlation_xy = correlation_matrix[0,1]\n",
    "r_squared = correlation_xy**2\n",
    "\n",
    "print(\"R-Squared:\",\"{:.4f}\".format(r_squared))"
   ]
  },
  {
   "cell_type": "code",
   "execution_count": 20,
   "metadata": {},
   "outputs": [
    {
     "name": "stdout",
     "output_type": "stream",
     "text": [
      "R-Squared: 0.01\n"
     ]
    },
    {
     "data": {
      "image/png": "[encoded data removed]",
      "text/plain": [
       "<Figure size 432x288 with 1 Axes>"
      ]
     },
     "metadata": {
      "needs_background": "light"
     },
     "output_type": "display_data"
    }
   ],
   "source": [
    "g3 = sns.regplot(x='EDUC',y='MMSE', data=one_visit, color=\"g\");\n",
    "g3 = g3.set(xlim=(7, 25))\n",
    "\n",
    "oasis_df2 = one_visit.dropna()\n",
    "correlation_matrix = np.corrcoef(one_visit['EDUC'], one_visit['MMSE'])\n",
    "correlation_xy = correlation_matrix[0,1]\n",
    "r_squared = correlation_xy**2\n",
    "\n",
    "print(\"R-Squared:\",\"{:.2f}\".format(r_squared))"
   ]
  },
  {
   "cell_type": "markdown",
   "metadata": {},
   "source": [
    "Running the simple linear regression models comparing two of the variables at a time, it is evident that in this dataset EDUC, MMSE & SES do not correlate that well with R-squared values of 0.47, 0.0002 & 0.01. Although Education and SES seem to show a pattern in the graph it is not a strong enough correlation to assume a connection between the two.\n",
    "\n",
    "LME models are common practice in longitudinal studies and did give more insight into the data compared to the ANOVA which is probably not the best method to use for this dataset due to missing data and non-independence of variables. In addition, the models that I used may not be the best for this dataset either and can be interpreted in other ways for example some might suggest that socioeconomic status could be treated as a random effect depending on how the sample was collected. Another aspect I did not delve into is possible nested effects. "
   ]
  },
  {
   "cell_type": "markdown",
   "metadata": {},
   "source": [
    "### References\n",
    "\n",
    "Shapiro, S. S., & Wilk, M. B. (1965). An analysis of variance test for normality (complete samples). Biometrika, 52(3/4), 591-611.\n"
   ]
  }
 ],
 "metadata": {
  "kernelspec": {
   "display_name": "Python 3",
   "language": "python",
   "name": "python3"
  },
  "language_info": {
   "codemirror_mode": {
    "name": "ipython",
    "version": 3
   },
   "file_extension": ".py",
   "mimetype": "text/x-python",
   "name": "python",
   "nbconvert_exporter": "python",
   "pygments_lexer": "ipython3",
   "version": "3.8.5"
  }
 },
 "nbformat": 4,
 "nbformat_minor": 4
}
